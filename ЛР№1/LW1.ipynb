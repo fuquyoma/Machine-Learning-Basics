{
 "cells": [
  {
   "cell_type": "markdown",
   "id": "8e38a786",
   "metadata": {},
   "source": [
    "# Лабораторная работа№ 1\n",
    "## Выполнил: Гневнов А.Е., ИВТ 2.1"
   ]
  },
  {
   "cell_type": "code",
   "execution_count": 2,
   "id": "e932ecf9",
   "metadata": {},
   "outputs": [],
   "source": [
    "import numpy as np\n",
    "import pandas as pd\n",
    "import matplotlib.pyplot as plt\n",
    "import seaborn as sns\n",
    "from sklearn.linear_model import LinearRegression, Lasso\n",
    "from sklearn.metrics import r2_score, mean_absolute_error\n",
    "from sklearn.preprocessing import MinMaxScaler, PolynomialFeatures\n",
    "from sklearn.model_selection import train_test_split\n",
    "\n",
    "# Загрузка данных\n",
    "data = pd.read_csv('data/insurance.csv')"
   ]
  },
  {
   "cell_type": "markdown",
   "id": "1d0e1d5a",
   "metadata": {},
   "source": [
    "### Предобработка данных"
   ]
  },
  {
   "cell_type": "code",
   "execution_count": 3,
   "id": "e90e2127",
   "metadata": {},
   "outputs": [],
   "source": [
    "# Кодирование категориальных переменных\n",
    "data['smoker'] = data['smoker'].map({'no': 0, 'yes': 1})\n",
    "data['sex'] = data['sex'].map({'female': 0, 'male': 1})\n",
    "data = pd.get_dummies(data, columns=['region'], drop_first=True)\n",
    "\n",
    "# Разделение на признаки и целевую переменную\n",
    "X = data.drop('charges', axis=1)\n",
    "y = data['charges']"
   ]
  },
  {
   "cell_type": "markdown",
   "id": "c02b60e8",
   "metadata": {},
   "source": [
    "### Задание 1:  Разделение данных"
   ]
  },
  {
   "cell_type": "code",
   "execution_count": 4,
   "id": "5fe3f411",
   "metadata": {},
   "outputs": [
    {
     "name": "stdout",
     "output_type": "stream",
     "text": [
      "Размер тестовой выборки: 268 наблюдений\n"
     ]
    }
   ],
   "source": [
    "X_train, X_test, y_train, y_test = train_test_split(\n",
    "    X, y, \n",
    "    test_size=0.2, \n",
    "    random_state=42\n",
    ")\n",
    "\n",
    "print(f\"Размер тестовой выборки: {len(X_test)} наблюдений\")"
   ]
  },
  {
   "cell_type": "markdown",
   "id": "a41645b6",
   "metadata": {},
   "source": [
    "### Задание 2: Обучение линейной регрессии"
   ]
  },
  {
   "cell_type": "code",
   "execution_count": 5,
   "id": "a5dff6d5",
   "metadata": {},
   "outputs": [
    {
     "name": "stdout",
     "output_type": "stream",
     "text": [
      "Свободный член (intercept): -11931.22\n",
      "Тренировочные данные: R²=0.742, MAE=4208, MAPE=42%\n",
      "Тестовые данные: R²=0.784, MAE=4181, MAPE=46%\n"
     ]
    }
   ],
   "source": [
    "\n",
    "lr = LinearRegression()\n",
    "lr.fit(X_train, y_train)\n",
    "\n",
    "# Свободный член (intercept)\n",
    "intercept = round(lr.intercept_, 2)\n",
    "print(f\"Свободный член (intercept): {intercept}\")\n",
    "\n",
    "# Функция для расчета метрик\n",
    "def calc_metrics(model, X, y):\n",
    "    pred = model.predict(X)\n",
    "    r2 = r2_score(y, pred)\n",
    "    mae = mean_absolute_error(y, pred)\n",
    "    mape = np.mean(np.abs((y - pred) / y)) * 100\n",
    "    return round(r2, 3), int(mae), int(mape)\n",
    "\n",
    "# Расчет метрик\n",
    "train_metrics = calc_metrics(lr, X_train, y_train)\n",
    "test_metrics = calc_metrics(lr, X_test, y_test)\n",
    "\n",
    "print(f\"Тренировочные данные: R²={train_metrics[0]}, MAE={train_metrics[1]}, MAPE={train_metrics[2]}%\")\n",
    "print(f\"Тестовые данные: R²={test_metrics[0]}, MAE={test_metrics[1]}, MAPE={test_metrics[2]}%\")"
   ]
  },
  {
   "cell_type": "markdown",
   "id": "fdb2a645",
   "metadata": {},
   "source": [
    "### Задание 3: Boxplot ошибок"
   ]
  },
  {
   "cell_type": "code",
   "execution_count": 6,
   "id": "e7fb38ac",
   "metadata": {},
   "outputs": [
    {
     "data": {
      "image/png": "[encoded data removed]",
      "text/plain": [
       "<Figure size 1000x600 with 1 Axes>"
      ]
     },
     "metadata": {},
     "output_type": "display_data"
    }
   ],
   "source": [
    "# Расчет ошибок\n",
    "train_errors = y_train - lr.predict(X_train)\n",
    "test_errors = y_test - lr.predict(X_test)\n",
    "\n",
    "# Построение графика\n",
    "plt.figure(figsize=(10, 6))\n",
    "sns.boxplot(data=[train_errors, test_errors])\n",
    "plt.xticks([0, 1], ['Train', 'Test'])\n",
    "plt.ylabel('Ошибка (y - ŷ)')\n",
    "plt.title('Распределение ошибок')\n",
    "plt.show()"
   ]
  },
  {
   "cell_type": "markdown",
   "id": "f6c78575",
   "metadata": {},
   "source": [
    "### Задание 4: Нормализация и полиномиальные признаки"
   ]
  },
  {
   "cell_type": "code",
   "execution_count": 7,
   "id": "86b7259a",
   "metadata": {},
   "outputs": [
    {
     "name": "stdout",
     "output_type": "stream",
     "text": [
      "Количество столбцов: 44\n"
     ]
    }
   ],
   "source": [
    "# MinMax-нормализация\n",
    "scaler = MinMaxScaler()\n",
    "X_train_scaled = scaler.fit_transform(X_train)\n",
    "X_test_scaled = scaler.transform(X_test)\n",
    "\n",
    "# Генерация полиномиальных признаков\n",
    "poly = PolynomialFeatures(degree=2, include_bias=False)\n",
    "X_train_poly = poly.fit_transform(X_train_scaled)\n",
    "X_test_poly = poly.transform(X_test_scaled)\n",
    "\n",
    "print(f\"Количество столбцов: {X_train_poly.shape[1]}\")"
   ]
  },
  {
   "cell_type": "markdown",
   "id": "bfe5b020",
   "metadata": {},
   "source": [
    "### Задание 5: Полиномиальная регрессия"
   ]
  },
  {
   "cell_type": "code",
   "execution_count": 8,
   "id": "88135c98",
   "metadata": {},
   "outputs": [
    {
     "name": "stdout",
     "output_type": "stream",
     "text": [
      "R² на тесте: 0.867\n"
     ]
    }
   ],
   "source": [
    "lr_poly = LinearRegression()\n",
    "lr_poly.fit(X_train_poly, y_train)\n",
    "\n",
    "test_r2 = r2_score(y_test, lr_poly.predict(X_test_poly))\n",
    "print(f\"R² на тесте: {round(test_r2, 3)}\")"
   ]
  },
  {
   "cell_type": "markdown",
   "id": "d592780e",
   "metadata": {},
   "source": [
    "### Задание 6: Анализ коэффициентов"
   ]
  },
  {
   "cell_type": "code",
   "execution_count": 9,
   "id": "4eb3f29f",
   "metadata": {},
   "outputs": [
    {
     "name": "stdout",
     "output_type": "stream",
     "text": [
      "Min коэффициент: -9711.00\n",
      "Max коэффициент: 54839.21\n",
      "Среднее |coef|: 3127.22\n"
     ]
    }
   ],
   "source": [
    "coefs = lr_poly.coef_\n",
    "print(f\"Min коэффициент: {np.min(coefs):.2f}\")\n",
    "print(f\"Max коэффициент: {np.max(coefs):.2f}\")\n",
    "print(f\"Среднее |coef|: {np.mean(np.abs(coefs)):.2f}\")"
   ]
  },
  {
   "cell_type": "markdown",
   "id": "07ddfd63",
   "metadata": {},
   "source": [
    "Значения коэффициентов очень высокие, модель неустойчива, необходима регуляризация"
   ]
  },
  {
   "cell_type": "markdown",
   "id": "bfb05aea",
   "metadata": {},
   "source": [
    "### Задание 7: Lasso-регрессия"
   ]
  },
  {
   "cell_type": "code",
   "execution_count": 10,
   "id": "fb9097dc",
   "metadata": {},
   "outputs": [
    {
     "name": "stdout",
     "output_type": "stream",
     "text": [
      "R²=0.867, MAE=2716, MAPE=30%\n"
     ]
    }
   ],
   "source": [
    "lasso = Lasso(alpha=1.0, max_iter=2000)  # alpha по умолчанию=1.0\n",
    "lasso.fit(X_train_poly, y_train)\n",
    "\n",
    "# Метрики на тесте\n",
    "pred_test = lasso.predict(X_test_poly)\n",
    "r2 = round(r2_score(y_test, pred_test), 3)\n",
    "mae = int(mean_absolute_error(y_test, pred_test))\n",
    "mape = int(np.mean(np.abs((y_test - pred_test) / y_test)) * 100)\n",
    "\n",
    "print(f\"R²={r2}, MAE={mae}, MAPE={mape}%\")"
   ]
  }
 ],
 "metadata": {
  "kernelspec": {
   "display_name": "Python 3",
   "language": "python",
   "name": "python3"
  },
  "language_info": {
   "codemirror_mode": {
    "name": "ipython",
    "version": 3
   },
   "file_extension": ".py",
   "mimetype": "text/x-python",
   "name": "python",
   "nbconvert_exporter": "python",
   "pygments_lexer": "ipython3",
   "version": "3.13.0"
  }
 },
 "nbformat": 4,
 "nbformat_minor": 5
}
