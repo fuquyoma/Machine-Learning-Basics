{
 "cells": [
  {
   "cell_type": "markdown",
   "id": "ee6ee658",
   "metadata": {},
   "source": [
    "# Практическая работа 1\n",
    "## Выполнил Гневнов А.Е., ИВТ 2.1\n",
    "## Подготовка данных и обучение модели"
   ]
  },
  {
   "cell_type": "code",
   "execution_count": null,
   "id": "bb85367c",
   "metadata": {},
   "outputs": [],
   "source": [
    "import pandas as pd\n",
    "import numpy as np\n",
    "import seaborn as sns\n",
    "import matplotlib.pyplot as plt\n",
    "from sklearn.model_selection import train_test_split, GridSearchCV\n",
    "from sklearn.preprocessing import StandardScaler\n",
    "from sklearn.metrics import accuracy_score, f1_score, classification_report, confusion_matrix\n",
    "from sklearn.ensemble import RandomForestClassifier\n",
    "from sklearn.tree import DecisionTreeClassifier\n",
    "from xgboost import XGBClassifier\n",
    "from sklearn.svm import SVC\n",
    "from sklearn.neighbors import KNeighborsClassifier\n",
    "from sklearn.neural_network import MLPClassifier\n",
    "import pickle\n",
    "import warnings\n",
    "\n",
    "warnings.filterwarnings('ignore')\n",
    "sns.set_style('whitegrid')"
   ]
  },
  {
   "cell_type": "markdown",
   "id": "f3fc5f18",
   "metadata": {},
   "source": [
    "### 1. Загрузка и анализ данных"
   ]
  },
  {
   "cell_type": "code",
   "execution_count": null,
   "id": "88021e48",
   "metadata": {},
   "outputs": [],
   "source": [
    "df = pd.read_csv('WineQT.csv')\n",
    "print(\"Размерность данных:\", df.shape)"
   ]
  },
  {
   "cell_type": "code",
   "execution_count": null,
   "id": "8326d3df",
   "metadata": {},
   "outputs": [],
   "source": [
    "# Первичный анализ\n",
    "print(\"\\nПервые 5 строк:\")\n",
    "display(df.head())\n",
    "\n",
    "print(\"\\nИнформация о данных:\")\n",
    "display(df.info())\n",
    "\n",
    "print(\"\\nСтатистика:\")\n",
    "display(df.describe())"
   ]
  },
  {
   "cell_type": "code",
   "execution_count": null,
   "id": "552c4ddb",
   "metadata": {},
   "outputs": [],
   "source": [
    "# Анализ целевой переменной\n",
    "plt.figure(figsize=(10, 6))\n",
    "sns.countplot(x='quality', data=df)\n",
    "plt.title('Распределение качества вина')\n",
    "plt.xlabel('Качество')\n",
    "plt.ylabel('Количество')\n",
    "plt.show()"
   ]
  },
  {
   "cell_type": "code",
   "execution_count": null,
   "id": "a193099e",
   "metadata": {},
   "outputs": [],
   "source": [
    "# Корреляционный анализ\n",
    "plt.figure(figsize=(12, 10))\n",
    "sns.heatmap(df.corr(numeric_only=True), annot=True, cmap='coolwarm', fmt='.2f')\n",
    "plt.title('Корреляционная матрица')\n",
    "plt.show()"
   ]
  },
  {
   "cell_type": "markdown",
   "id": "5ab3ee74",
   "metadata": {},
   "source": [
    "### 2. Подготовка данных"
   ]
  },
  {
   "cell_type": "code",
   "execution_count": null,
   "id": "a75c333f",
   "metadata": {},
   "outputs": [],
   "source": [
    "# Разделение на признаки и целевую переменную\n",
    "X = df.drop(['quality', 'Id'], axis=1)\n",
    "y = df['quality']"
   ]
  },
  {
   "cell_type": "code",
   "execution_count": null,
   "id": "d82e9d64",
   "metadata": {},
   "outputs": [],
   "source": [
    "# Разделение на обучающую, валидационную и тестовую выборки\n",
    "X_train, X_test, y_train, y_test = train_test_split(X, y, test_size=0.15, random_state=42, stratify=y)\n",
    "X_train, X_val, y_train, y_val = train_test_split(\n",
    "    X_train, y_train, test_size=0.176, random_state=42, stratify=y_train\n",
    ")\n",
    "\n",
    "print(f\"Обучающая выборка: {X_train.shape[0]} записей\")\n",
    "print(f\"Валидационная выборка: {X_val.shape[0]} записей\")\n",
    "print(f\"Тестовая выборка: {X_test.shape[0]} записей\")"
   ]
  },
  {
   "cell_type": "code",
   "execution_count": null,
   "id": "bf61f61a",
   "metadata": {},
   "outputs": [],
   "source": [
    "# Масштабирование признаков\n",
    "scaler = StandardScaler()\n",
    "X_train_scaled = scaler.fit_transform(X_train)\n",
    "X_val_scaled = scaler.transform(X_val)\n",
    "X_test_scaled = scaler.transform(X_test)\n",
    "\n",
    "# Сохранение скейлера\n",
    "with open('scaler.pkl', 'wb') as f:\n",
    "    pickle.dump(scaler, f)"
   ]
  },
  {
   "cell_type": "markdown",
   "id": "4c4b23a9",
   "metadata": {},
   "source": [
    "### 3. Обучение моделей"
   ]
  },
  {
   "cell_type": "code",
   "execution_count": null,
   "id": "8b73e591",
   "metadata": {},
   "outputs": [],
   "source": [
    "# Инициализация моделей\n",
    "models = {\n",
    "    'RandomForest': RandomForestClassifier(random_state=42),\n",
    "    'DecisionTree': DecisionTreeClassifier(random_state=42),\n",
    "    'SVM': SVC(random_state=42, probability=True),\n",
    "    'KNN': KNeighborsClassifier(),\n",
    "    'MLP': MLPClassifier(random_state=42, max_iter=1000)\n",
    "}"
   ]
  },
  {
   "cell_type": "code",
   "execution_count": null,
   "id": "38a7193e",
   "metadata": {},
   "outputs": [],
   "source": [
    "# Обучение и оценка моделей\n",
    "results = {}\n",
    "\n",
    "for name, model in models.items():\n",
    "    print(f\"\\nОбучение модели: {name}\")\n",
    "    model.fit(X_train_scaled, y_train)\n",
    "    \n",
    "    # Предсказания на валидационной выборке\n",
    "    y_pred = model.predict(X_val_scaled)\n",
    "    \n",
    "    # Расчет метрик\n",
    "    accuracy = accuracy_score(y_val, y_pred)\n",
    "    f1 = f1_score(y_val, y_pred, average='weighted')\n",
    "    \n",
    "    results[name] = {\n",
    "        'model': model,\n",
    "        'accuracy': accuracy,\n",
    "        'f1_score': f1\n",
    "    }\n",
    "    \n",
    "    print(f\"Accuracy: {accuracy:.4f}\")\n",
    "    print(f\"F1 Score: {f1:.4f}\")\n",
    "    print(classification_report(y_val, y_pred))"
   ]
  },
  {
   "cell_type": "code",
   "execution_count": null,
   "id": "6bda23ad",
   "metadata": {},
   "outputs": [],
   "source": [
    "# Сводная таблица результатов\n",
    "results_df = pd.DataFrame.from_dict(results, orient='index')\n",
    "results_df.drop(columns='model', inplace=True)\n",
    "results_df.sort_values(by='f1_score', ascending=False, inplace=True)\n",
    "\n",
    "display(results_df)"
   ]
  },
  {
   "cell_type": "code",
   "execution_count": null,
   "id": "fd0189ff",
   "metadata": {},
   "outputs": [],
   "source": [
    "# Визуализация результатов\n",
    "plt.figure(figsize=(10, 6))\n",
    "results_df.plot(kind='bar', y=['accuracy', 'f1_score'], figsize=(12, 6))\n",
    "plt.title('Сравнение производительности моделей')\n",
    "plt.ylabel('Оценка')\n",
    "plt.xticks(rotation=15)\n",
    "plt.legend(loc='lower right')\n",
    "plt.tight_layout()\n",
    "plt.show()"
   ]
  },
  {
   "cell_type": "markdown",
   "id": "eff61860",
   "metadata": {},
   "source": [
    "### 5. Тюнинг лучшей модели"
   ]
  },
  {
   "cell_type": "code",
   "execution_count": null,
   "id": "2e899065",
   "metadata": {},
   "outputs": [],
   "source": [
    "# Выбор лучшей модели\n",
    "best_model_name = results_df.index[0]\n",
    "best_model = results[best_model_name]['model']\n",
    "print(f\"Лучшая модель: {best_model_name}\")"
   ]
  },
  {
   "cell_type": "code",
   "execution_count": null,
   "id": "37ed7e84",
   "metadata": {},
   "outputs": [],
   "source": [
    "# Параметры для GridSearchCV\n",
    "param_grids = {\n",
    "    'RandomForest': {\n",
    "        'n_estimators': [100, 200],\n",
    "        'max_depth': [None, 10, 20],\n",
    "        'min_samples_split': [2, 5]\n",
    "    },\n",
    "    'XGBoost': {\n",
    "        'n_estimators': [100, 200],\n",
    "        'learning_rate': [0.01, 0.1],\n",
    "        'max_depth': [3, 5]\n",
    "    },\n",
    "    'SVM': {\n",
    "        'C': [0.1, 1, 10],\n",
    "        'kernel': ['linear', 'rbf']\n",
    "    },\n",
    "    'KNN': {\n",
    "        'n_neighbors': [3, 5, 7],\n",
    "        'weights': ['uniform', 'distance']\n",
    "    },\n",
    "    'MLP': {\n",
    "        'hidden_layer_sizes': [(50,), (100,)],\n",
    "        'alpha': [0.0001, 0.001]\n",
    "    }\n",
    "}"
   ]
  },
  {
   "cell_type": "code",
   "execution_count": null,
   "id": "b4855114",
   "metadata": {},
   "outputs": [],
   "source": [
    "# Тюнинг выбранной модели\n",
    "if best_model_name in param_grids:\n",
    "    print(f\"\\nТюнинг модели: {best_model_name}\")\n",
    "    grid_search = GridSearchCV(\n",
    "        estimator=best_model,\n",
    "        param_grid=param_grids[best_model_name],\n",
    "        scoring='f1_weighted',\n",
    "        cv=3,\n",
    "        n_jobs=-1,\n",
    "        verbose=1\n",
    "    )\n",
    "    \n",
    "    grid_search.fit(X_train_scaled, y_train)\n",
    "    \n",
    "    # Обновление лучшей модели\n",
    "    best_model = grid_search.best_estimator_\n",
    "    print(f\"Лучшие параметры: {grid_search.best_params_}\")\n",
    "    \n",
    "    # Оценка после тюнинга\n",
    "    y_val_pred = best_model.predict(X_val_scaled)\n",
    "    tuned_f1 = f1_score(y_val, y_val_pred, average='weighted')\n",
    "    print(f\"F1 после тюнинга: {tuned_f1:.4f}\")"
   ]
  },
  {
   "cell_type": "markdown",
   "id": "dbe7c27a",
   "metadata": {},
   "source": [
    "### 6. Оценка на тестовых данных"
   ]
  },
  {
   "cell_type": "code",
   "execution_count": null,
   "id": "9aca4504",
   "metadata": {},
   "outputs": [],
   "source": [
    "# Финальная оценка\n",
    "y_test_pred = best_model.predict(X_test_scaled)\n",
    "test_accuracy = accuracy_score(y_test, y_test_pred)\n",
    "test_f1 = f1_score(y_test, y_test_pred, average='weighted')\n",
    "\n",
    "print(f\"\\nРезультаты на тестовых данных:\")\n",
    "print(f\"Accuracy: {test_accuracy:.4f}\")\n",
    "print(f\"F1 Score: {test_f1:.4f}\")\n",
    "print(classification_report(y_test, y_test_pred))"
   ]
  },
  {
   "cell_type": "code",
   "execution_count": null,
   "id": "e7eddbd5",
   "metadata": {},
   "outputs": [],
   "source": [
    "# Матрица ошибок\n",
    "plt.figure(figsize=(10, 8))\n",
    "cm = confusion_matrix(y_test, y_test_pred)\n",
    "sns.heatmap(cm, annot=True, fmt='d', cmap='Blues')\n",
    "plt.title('Матрица ошибок')\n",
    "plt.xlabel('Предсказанные значения')\n",
    "plt.ylabel('Истинные значения')\n",
    "plt.show()"
   ]
  },
  {
   "cell_type": "markdown",
   "id": "43883a51",
   "metadata": {},
   "source": [
    "### 7. Сохрананяем модель"
   ]
  },
  {
   "cell_type": "code",
   "execution_count": null,
   "id": "6419e8bd",
   "metadata": {},
   "outputs": [],
   "source": [
    "# Сохранение лучшей модели\n",
    "with open('best_wine_model.pkl', 'wb') as f:\n",
    "    pickle.dump(best_model, f)\n",
    "print(\"Модель сохранена как 'best_wine_model.pkl'\")"
   ]
  },
  {
   "cell_type": "markdown",
   "id": "7787f45b",
   "metadata": {},
   "source": [
    "### 8. Пример использования модели и скейлера"
   ]
  },
  {
   "cell_type": "code",
   "execution_count": null,
   "id": "12b3ef6a",
   "metadata": {},
   "outputs": [],
   "source": [
    "def predict_wine_quality(features):\n",
    "    \"\"\"Предсказывает качество вина на основе входных признаков\"\"\"\n",
    "    # Загрузка модели и скейлера\n",
    "    with open('best_wine_model.pkl', 'rb') as f:\n",
    "        model = pickle.load(f)\n",
    "    with open('scaler.pkl', 'rb') as f:\n",
    "        scaler = pickle.load(f)\n",
    "    \n",
    "    # Преобразование признаков\n",
    "    scaled_features = scaler.transform([features])\n",
    "    \n",
    "    # Предсказание\n",
    "    prediction = model.predict(scaled_features)\n",
    "    return prediction[0]\n",
    "\n",
    "# Пример использования\n",
    "sample_wine = {\n",
    "    'fixed acidity': 7.4,\n",
    "    'volatile acidity': 0.70,\n",
    "    'citric acid': 0.00,\n",
    "    'residual sugar': 1.9,\n",
    "    'chlorides': 0.076,\n",
    "    'free sulfur dioxide': 11.0,\n",
    "    'total sulfur dioxide': 34.0,\n",
    "    'density': 0.9978,\n",
    "    'pH': 3.51,\n",
    "    'sulphates': 0.56,\n",
    "    'alcohol': 9.4\n",
    "}\n",
    "\n",
    "# Убедимся, что порядок признаков соответствует обучению\n",
    "features_ordered = [sample_wine[col] for col in X.columns]\n",
    "predicted_quality = predict_wine_quality(features_ordered)\n",
    "print(f\"\\nПредсказанное качество вина: {predicted_quality}\")"
   ]
  }
 ],
 "metadata": {
  "kernelspec": {
   "display_name": "Python 3",
   "language": "python",
   "name": "python3"
  },
  "language_info": {
   "codemirror_mode": {
    "name": "ipython",
    "version": 3
   },
   "file_extension": ".py",
   "mimetype": "text/x-python",
   "name": "python",
   "nbconvert_exporter": "python",
   "pygments_lexer": "ipython3",
   "version": "3.13.0"
  }
 },
 "nbformat": 4,
 "nbformat_minor": 5
}
